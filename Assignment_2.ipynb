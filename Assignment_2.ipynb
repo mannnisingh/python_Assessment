{
  "nbformat": 4,
  "nbformat_minor": 0,
  "metadata": {
    "colab": {
      "provenance": []
    },
    "kernelspec": {
      "name": "python3",
      "display_name": "Python 3"
    },
    "language_info": {
      "name": "python"
    }
  },
  "cells": [
    {
      "cell_type": "markdown",
      "source": [
        "\n",
        "\n",
        "1.What are the two values of the Boolean data type? How do you write them?\n",
        "\n",
        "Ans.The two values of the Boolean data type are typically represented as `true` and `false`. In some programming languages, they may be represented slightly differently, such as `True` and `False` in Python or `1` and `0` in some contexts, but the concept remains the same: Boolean values represent truth or falsehood in logical expressions.\n"
      ],
      "metadata": {
        "id": "SfPrO_UCE3Rn"
      }
    },
    {
      "cell_type": "markdown",
      "source": [
        "2. What are the three different types of Boolean operators?\n",
        "\n",
        "Ans.The three different types of Boolean operators are:\n",
        "\n",
        "1. **AND Operator (`&&` or `AND`)**: Returns true if both operands are true.\n",
        "\n",
        "2. **OR Operator (`||` or `OR`)**: Returns true if at least one of the operands is true.\n",
        "\n",
        "3. **NOT Operator (`!` or `NOT`)**: Returns the opposite of the operand's truth value; if the operand is true, NOT returns false, and if the operand is false, NOT returns true."
      ],
      "metadata": {
        "id": "wl6nDbZTBtaM"
      }
    },
    {
      "cell_type": "markdown",
      "source": [
        "3. Make a list of each Boolean operator&#39;s truth tables (i.e. every possible combination of Boolean\n",
        "values for the operator and what it evaluate ).\n",
        "\n",
        "Ans.Here are the truth tables for each Boolean operator:\n",
        "\n",
        "1. **AND Operator (`&&` or `AND`)**:\n",
        "\n",
        "| A     | B     | A && B |\n",
        "|-------|-------|--------|\n",
        "| false | false | false  |\n",
        "| false | true  | false  |\n",
        "| true  | false | false  |\n",
        "| true  | true  | true   |\n",
        "\n",
        "2. **OR Operator (`||` or `OR`)**:\n",
        "\n",
        "| A     | B     | A \\|\\| B |\n",
        "|-------|-------|----------|\n",
        "| false | false | false    |\n",
        "| false | true  | true     |\n",
        "| true  | false | true     |\n",
        "| true  | true  | true     |\n",
        "\n",
        "3. **NOT Operator (`!` or `NOT`)**:\n",
        "\n",
        "| A     | !A    |\n",
        "|-------|-------|\n",
        "| false | true  |\n",
        "| true  | false |"
      ],
      "metadata": {
        "id": "O1kqEm8UC127"
      }
    },
    {
      "cell_type": "markdown",
      "source": [
        "4. What are the values of the following expressions?\n",
        "\n",
        " (5 &gt; 4) and (3 == 5)\n",
        "\n",
        " not (5 &gt; 4)\n",
        "\n",
        " (5 &gt; 4) or (3 == 5)\n",
        "\n",
        " not ((5 &gt; 4) or (3 == 5))\n",
        "\n",
        " (True and True) and (True == False)\n",
        "\n",
        " (not False) or (not True)\n",
        "\n",
        "Ans.Let's evaluate each expression:\n",
        "\n",
        "1. `(5 > 4) and (3 == 5)`\n",
        "   - `(5 > 4)` evaluates to `True`.\n",
        "   - `(3 == 5)` evaluates to `False`.\n",
        "   - `True and False` evaluates to `False`.\n",
        "\n",
        "2. `not (5 > 4)`\n",
        "   - `(5 > 4)` evaluates to `True`.\n",
        "   - `not True` evaluates to `False`.\n",
        "\n",
        "3. `(5 > 4) or (3 == 5)`\n",
        "   - `(5 > 4)` evaluates to `True`.\n",
        "   - `(3 == 5)` evaluates to `False`.\n",
        "   - `True or False` evaluates to `True`.\n",
        "\n",
        "4. `not ((5 > 4) or (3 == 5))`\n",
        "   - `(5 > 4)` evaluates to `True`.\n",
        "   - `(3 == 5)` evaluates to `False`.\n",
        "   - `(True or False)` evaluates to `True`.\n",
        "   - `not True` evaluates to `False`.\n",
        "\n",
        "5. `(True and True) and (True == False)`\n",
        "   - `True and True` evaluates to `True`.\n",
        "   - `True == False` evaluates to `False`.\n",
        "   - `True and False` evaluates to `False`.\n",
        "\n",
        "6. `(not False) or (not True)`\n",
        "   - `not False` evaluates to `True`.\n",
        "   - `not True` evaluates to `False`.\n",
        "   - `True or False` evaluates to `True`.\n",
        "\n",
        "So, the values of the given expressions are:\n",
        "\n",
        "1. `False`\n",
        "2. `False`\n",
        "3. `True`\n",
        "4. `False`\n",
        "5. `False`\n",
        "6. `True`"
      ],
      "metadata": {
        "id": "kYdgTSboDUFi"
      }
    },
    {
      "cell_type": "markdown",
      "source": [
        "5. What are the six comparison operators?\n",
        "\n",
        "Ans.The six comparison operators are:\n",
        "\n",
        "1. **Equal to (`==`)**: Checks if two values are equal.\n",
        "\n",
        "2. **Not equal to (`!=`)**: Checks if two values are not equal.\n",
        "\n",
        "3. **Greater than (`>`)**: Checks if the left operand is greater than the right operand.\n",
        "\n",
        "4. **Less than (`<`)**: Checks if the left operand is less than the right operand.\n",
        "\n",
        "5. **Greater than or equal to (`>=`)**: Checks if the left operand is greater than or equal to the right operand.\n",
        "\n",
        "6. **Less than or equal to (`<=`)**: Checks if the left operand is less than or equal to the right operand."
      ],
      "metadata": {
        "id": "kZURtcLAEMee"
      }
    },
    {
      "cell_type": "markdown",
      "source": [
        "6. How do you tell the difference between the equal to and assignment operators?Describe a\n",
        "condition and when you would use one.\n",
        "\n",
        "Ans.The equality operator (`==`) is used to compare two values to check if they are equal, whereas the assignment operator (`=`) is used to assign a value to a variable.\n",
        "\n",
        "Here's how you can tell the difference:\n",
        "\n",
        "- **Equal to operator (`==`)**: This operator compares two values and returns `true` if they are equal, `false` otherwise. For example:\n",
        "  ```python\n",
        "  x = 5\n",
        "  y = 10\n",
        "  result = (x == y)  # result will be False because 5 is not equal to 10\n",
        "  ```\n",
        "\n",
        "- **Assignment operator (`=`)**: This operator assigns the value on the right-hand side to the variable on the left-hand side. For example:\n",
        "  ```python\n",
        "  x = 5  # Assigning the value 5 to variable x\n",
        "  ```\n",
        "\n",
        "**Condition**:\n",
        "Let's say you want to check if two variables have the same value. You would use the equality operator in this case. For example:\n",
        "```python\n",
        "x = 10\n",
        "y = 10\n",
        "if x == y:\n",
        "    print(\"x and y have the same value.\")\n",
        "```\n",
        "\n",
        "**When to Use**:\n",
        "- **Equal to operator (`==`)**: You would use this when you want to compare two values to see if they are equal. For example, in conditional statements or when evaluating expressions.\n",
        "- **Assignment operator (`=`)**: You would use this when you want to assign a value to a variable, such as initializing a variable or updating its value."
      ],
      "metadata": {
        "id": "uVmBUJTHEt2i"
      }
    },
    {
      "cell_type": "markdown",
      "source": [
        "7. Identify the three blocks in this code:\n",
        "spam = 0\n",
        "if spam == 10:\n",
        "print(&#39;eggs&#39;)\n",
        "if spam &gt; 5:\n",
        "print(&#39;bacon&#39;)\n",
        "else:\n",
        "print(&#39;ham&#39;)\n",
        "print(&#39;spam&#39;)\n",
        "print(&#39;spam&#39;)\n",
        "\n",
        "Ans.In the given code, there are three distinct blocks, which are separated by indentation levels. I'll identify them:\n",
        "\n",
        "1. **Block 1**:\n",
        "```python\n",
        "spam = 0\n",
        "if spam == 10:\n",
        "    print('eggs')\n",
        "```\n",
        "This block includes the initialization of the variable `spam` and a conditional statement (`if` statement). However, this block won't execute the print statement since `spam` is not equal to 10.\n",
        "\n",
        "2. **Block 2**:\n",
        "```python\n",
        "if spam > 5:\n",
        "    print('bacon')\n",
        "else:\n",
        "    print('ham')\n",
        "```\n",
        "This block contains another conditional statement (`if` statement) which checks if `spam` is greater than 5. If true, it prints 'bacon', otherwise, it prints 'ham'. However, since `spam` is 0, it will print 'ham'.\n",
        "\n",
        "3. **Block 3**:\n",
        "```python\n",
        "print('spam')\n",
        "```\n",
        "This block is not part of any conditional statement. It will always execute and print 'spam'.\n",
        "\n",
        "So, to summarize:\n",
        "\n",
        "- Block 1 includes the initialization and the first conditional statement.\n",
        "- Block 2 includes the second conditional statement.\n",
        "- Block 3 includes the print statements that are not within any conditional statements."
      ],
      "metadata": {
        "id": "vFtn8zYyE1Sy"
      }
    },
    {
      "cell_type": "markdown",
      "source": [
        "8. Write code that prints Hello if 1 is stored in spam, prints Howdy if 2 is stored in spam, and prints\n",
        "Greetings! if anything else is stored in spam.\n",
        "\n",
        "Ans.Here's the code that achieves the described behavior:\n",
        "\n",
        "```python\n",
        "spam =  # assign a value to spam, for example, 1, 2, or any other value\n",
        "\n",
        "if spam == 1:\n",
        "    print('Hello')\n",
        "elif spam == 2:\n",
        "    print('Howdy')\n",
        "else:\n",
        "    print('Greetings!')\n",
        "```\n",
        "\n",
        "In this code:\n",
        "- If the value stored in `spam` is `1`, it will print `'Hello'`.\n",
        "- If the value stored in `spam` is `2`, it will print `'Howdy'`.\n",
        "- If anything else is stored in `spam`, it will print `'Greetings!'`."
      ],
      "metadata": {
        "id": "dgQ2ZWR6FDwK"
      }
    },
    {
      "cell_type": "markdown",
      "source": [
        "9.If your programme is stuck in an endless loop, what keys you’ll press?\n",
        "\n",
        "Ans.If a program is stuck in an endless loop, you can interrupt its execution by pressing `Ctrl + C` (on most systems). This keyboard shortcut sends a SIGINT signal to the running program, which typically terminates its execution. This is a common way to break out of an infinite loop and regain control of the program. However, it's worth noting that some programs may not respond to this interruption if they are not designed to handle it properly. In such cases, you may need to force quit the program using other means provided by your operating system."
      ],
      "metadata": {
        "id": "CKNVOnaRFQK2"
      }
    },
    {
      "cell_type": "markdown",
      "source": [],
      "metadata": {
        "id": "iwUlUwzqGBDK"
      }
    },
    {
      "cell_type": "markdown",
      "source": [
        "10. How can you tell the difference between break and continue?\n",
        "\n",
        "Ans.`break` and `continue` are both control flow statements used in loops (such as `for` or `while` loops), but they serve different purposes:\n",
        "\n",
        "1. **break**:\n",
        "   - The `break` statement is used to exit the loop immediately when a certain condition is met.\n",
        "   - When `break` is encountered inside a loop, the loop is terminated, and the program continues executing the code immediately after the loop.\n",
        "   - It's often used to prematurely exit a loop when a specific condition is satisfied.\n",
        "   - Example:\n",
        "     ```python\n",
        "     for i in range(5):\n",
        "         if i == 3:\n",
        "             break\n",
        "         print(i)\n",
        "     ```\n",
        "     Output:\n",
        "     ```\n",
        "     0\n",
        "     1\n",
        "     2\n",
        "     ```\n",
        "\n",
        "2. **continue**:\n",
        "   - The `continue` statement is used to skip the rest of the code inside the loop for the current iteration and proceed to the next iteration of the loop.\n",
        "   - When `continue` is encountered, the current iteration of the loop is terminated immediately, and the loop proceeds to the next iteration.\n",
        "   - It's often used to skip certain iterations of the loop based on a condition, without terminating the loop entirely.\n",
        "   - Example:\n",
        "     ```python\n",
        "     for i in range(5):\n",
        "         if i == 2:\n",
        "             continue\n",
        "         print(i)\n",
        "     ```\n",
        "     Output:\n",
        "     ```\n",
        "     0\n",
        "     1\n",
        "     3\n",
        "     4\n",
        "     ```\n",
        "\n"
      ],
      "metadata": {
        "id": "InegJj8-GFmF"
      }
    },
    {
      "cell_type": "markdown",
      "source": [
        "11. In a for loop, what is the difference between range(10), range(0, 10), and range(0, 10, 1)?\n",
        "\n",
        "Ans.In Python, the `range()` function is used to generate a sequence of numbers. Let's break down the differences between `range(10)`, `range(0, 10)`, and `range(0, 10, 1)`:\n",
        "\n",
        "1. `range(10)`:\n",
        "   - This generates a sequence of numbers from `0` to `9` (inclusive).\n",
        "   - It starts from the default start value of `0` and ends at `10 - 1`.\n",
        "   - The step size defaults to `1`, meaning it increments by `1` for each value.\n",
        "   - So, it's equivalent to `range(0, 10, 1)`.\n",
        "\n",
        "2. `range(0, 10)`:\n",
        "   - This also generates a sequence of numbers from `0` to `9` (inclusive).\n",
        "   - It explicitly specifies the start value as `0` and the end value as `10 - 1`.\n",
        "   - The step size is not explicitly provided, so it defaults to `1`.\n",
        "   - So, it's equivalent to `range(0, 10, 1)`.\n",
        "\n",
        "3. `range(0, 10, 1)`:\n",
        "   - This generates a sequence of numbers starting from `0`, up to `10 - 1`, with a step size of `1`.\n",
        "   - The start value is explicitly provided as `0`.\n",
        "   - The end value is explicitly provided as `10 - 1`.\n",
        "   - The step size is explicitly provided as `1`.\n",
        "   - This form is the most explicit, but it behaves the same as the other forms in this context.\n"
      ],
      "metadata": {
        "id": "o35SLUlpG1c2"
      }
    },
    {
      "cell_type": "markdown",
      "source": [
        "12. Write a short program that prints the numbers 1 to 10 using a for loop. Then write an equivalent\n",
        "program that prints the numbers 1 to 10 using a while loop.\n",
        "\n",
        "Ans.Here's a short program that prints the numbers 1 to 10 using a for loop:\n",
        "\n",
        "```python\n",
        "# Using a for loop\n",
        "for i in range(1, 11):\n",
        "    print(i)\n",
        "```\n",
        "\n",
        "And here's an equivalent program that prints the numbers 1 to 10 using a while loop:\n",
        "\n",
        "```python\n",
        "# Using a while loop\n",
        "i = 1\n",
        "while i <= 10:\n",
        "    print(i)\n",
        "    i += 1\n",
        "```\n",
        "\n",
        "Both programs will output:\n",
        "```\n",
        "1\n",
        "2\n",
        "3\n",
        "4\n",
        "5\n",
        "6\n",
        "7\n",
        "8\n",
        "9\n",
        "10\n",
        "```\n",
        "\n",
        "In both cases, the loop starts from 1 and continues until it reaches 10, printing each number in the sequence."
      ],
      "metadata": {
        "id": "QaqDf9H7HF0R"
      }
    },
    {
      "cell_type": "markdown",
      "source": [
        "13. If you had a function named bacon() inside a module named spam, how would you call it after\n",
        "importing spam?\n",
        "\n",
        "Ans.After importing the module named `spam`, you can call the function named `bacon()` using the dot notation. Here's how you would do it:\n",
        "\n",
        "```python\n",
        "import spam\n",
        "\n",
        "spam.bacon()\n",
        "```\n",
        "\n",
        "This will call the `bacon()` function that resides inside the `spam` module."
      ],
      "metadata": {
        "id": "7VyJkNe0Hewr"
      }
    }
  ]
}